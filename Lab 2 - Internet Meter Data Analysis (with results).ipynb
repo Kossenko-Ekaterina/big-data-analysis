{
 "cells": [
  {
   "cell_type": "markdown",
   "metadata": {},
   "source": [
    "![Title](Images/cisco.png)"
   ]
  },
  {
   "cell_type": "markdown",
   "metadata": {},
   "source": [
    "# Lab - Internet Meter Data Analysis "
   ]
  },
  {
   "cell_type": "markdown",
   "metadata": {},
   "source": [
    "### Objectives\n",
    "<li>**Part 1: Collect and Store Data**</li>\n",
    "<li>**Part 2: Manipulate Data**</li>\n",
    "### Scenario/Background\n",
    "In this lab, you will acquire Internet speed statistics and store the live data in a comma separated values (csv) file. You will also load the stored data from the csv file to a Python data structure, the Pandas `DataFrame`, and use its functionalities to explore the data and manipulate it so that it is easily readable.\n",
    "### Required Resources\n",
    "* 1 PC with Internet access\n",
    "* Raspberry Pi version 2 or higher\n",
    "* Python libraries: datetime, csv, subprocess, pandas, numpy\n",
    "* Datafiles: rpi_data_long.csv"
   ]
  },
  {
   "cell_type": "markdown",
   "metadata": {},
   "source": [
    "## Part 1: Collect and Store Data\n",
    "<p>The goal of this first part of the lab is to gather internet speed measurements through the Raspberry Pi. Three kinds of measurements will be collected:\n",
    "1. Ping speed\n",
    "2. Download speed\n",
    "3. Upload speed"
   ]
  },
  {
   "cell_type": "markdown",
   "metadata": {},
   "source": [
    "#### Step 1: Install Speedtest and Import Python Libraries.\n",
    "In this step, you will install Speedtest and import Python libraries.\n",
    "<p>Speedtest-cli is a Python script that measures the upload and download speed of your Internet connection. For more information about speedtest, go to https://github.com/sivel/speedtest-cli."
   ]
  },
  {
   "cell_type": "markdown",
   "metadata": {},
   "source": [
    "a) Install `speedtest-cli`."
   ]
  },
  {
   "cell_type": "code",
   "execution_count": 1,
   "metadata": {},
   "outputs": [
    {
     "name": "stdout",
     "output_type": "stream",
     "text": [
      "Requirement already satisfied: speedtest-cli in c:\\programdata\\anaconda3\\lib\\site-packages (2.1.2)\n"
     ]
    }
   ],
   "source": [
    "# Code cell 1\n",
    "!pip3 install speedtest-cli"
   ]
  },
  {
   "cell_type": "markdown",
   "metadata": {},
   "source": [
    "This cli allows the Jupyter notebook to connect to the website and store the data."
   ]
  },
  {
   "cell_type": "markdown",
   "metadata": {},
   "source": [
    "b) Import the necessary Python libraries."
   ]
  },
  {
   "cell_type": "code",
   "execution_count": 2,
   "metadata": {},
   "outputs": [],
   "source": [
    "# Code cell 2\n",
    "# Python library to manage date and time data\n",
    "import datetime\n",
    "# Python library to read and write csv files\n",
    "import csv\n",
    "# Python library to execute bash commands from the notebook.\n",
    "# If you want to know more about this, check this resource: \n",
    "# http://www.pythonforbeginners.com/os/subprocess-for-system-administrators\n",
    "import subprocess"
   ]
  },
  {
   "cell_type": "markdown",
   "metadata": {},
   "source": [
    "#### Step 2: Generate timestamps using the `datetime` package.\n",
    "In this lab, measurements of Internet speed statistics will be generated. A crucial step in data acquisition for the majority of data analytics applications, is to associate a timestamp to measurements. "
   ]
  },
  {
   "cell_type": "markdown",
   "metadata": {},
   "source": [
    "a) To generate a timestamp, use the `datetime.now` function of the `datetime` package: "
   ]
  },
  {
   "cell_type": "code",
   "execution_count": 3,
   "metadata": {},
   "outputs": [
    {
     "name": "stdout",
     "output_type": "stream",
     "text": [
      "2021-02-24 00:41:47.267797 <class 'datetime.datetime'>\n"
     ]
    }
   ],
   "source": [
    "# Code cell 3\n",
    "date_time = datetime.datetime.now()\n",
    "print(date_time, type(date_time))"
   ]
  },
  {
   "cell_type": "markdown",
   "metadata": {},
   "source": [
    "b) An instance of the class `datetime` cannot be directly written to in text form. The function `strftime` parses the date information into a string. The arguments of this function determine the format of the output sting. A description of these parameters can be found in the documentation of the `strftime` function at https://docs.python.org/2/library/time.html. "
   ]
  },
  {
   "cell_type": "code",
   "execution_count": 4,
   "metadata": {},
   "outputs": [
    {
     "data": {
      "text/plain": [
       "'Wed, 24 Feb 2021 00:41:47'"
      ]
     },
     "execution_count": 4,
     "metadata": {},
     "output_type": "execute_result"
    }
   ],
   "source": [
    "# Code cell 4\n",
    "date_time.strftime('%a, %d %b %Y %H:%M:%S')"
   ]
  },
  {
   "cell_type": "markdown",
   "metadata": {},
   "source": [
    "After reading the documentation of the `strftime` function, generate a timestamp and parse it into a string with the following format: YYYY-MM-DD HH:MM:SS."
   ]
  },
  {
   "cell_type": "code",
   "execution_count": 5,
   "metadata": {},
   "outputs": [
    {
     "data": {
      "text/plain": [
       "'2021-02-24 00:41:47'"
      ]
     },
     "execution_count": 5,
     "metadata": {},
     "output_type": "execute_result"
    }
   ],
   "source": [
    "# Code cell 5\n",
    "# enter your code\n",
    "date_time.strftime('%Y-%m-%d %H:%M:%S')"
   ]
  },
  {
   "cell_type": "markdown",
   "metadata": {},
   "source": [
    "#### Step 3: Run the process and collect the output with Python.\n",
    "\n",
    "The `speedtest-cli` command, if run from a terminal, returns a string with download and upload speeds. To run the command from this notebook, it is necessary to use the Python module `subprocess`, which allows running a process directly from the notebook code cell. "
   ]
  },
  {
   "cell_type": "markdown",
   "metadata": {},
   "source": [
    "a) Run a speed test using the `speedtest-cli` command from Python. The output will be stored in the process_output variable."
   ]
  },
  {
   "cell_type": "code",
   "execution_count": 6,
   "metadata": {},
   "outputs": [],
   "source": [
    "# Code cell 6\n",
    "# This string contains the command line to interface with speedtest.net\n",
    "speedtest_cmd = \"speedtest-cli --simple\"\n",
    "# Execute the process\n",
    "process = subprocess.Popen(speedtest_cmd.split(), stdout=subprocess.PIPE)\n",
    "# Collect the command output\n",
    "process_output = process.communicate()[0]"
   ]
  },
  {
   "cell_type": "markdown",
   "metadata": {},
   "source": [
    "b) Print the process output. Notice the type for the `process_output` variable."
   ]
  },
  {
   "cell_type": "code",
   "execution_count": 7,
   "metadata": {},
   "outputs": [
    {
     "name": "stdout",
     "output_type": "stream",
     "text": [
      "b'Ping: 11.283 ms\\r\\nDownload: 75.40 Mbit/s\\r\\nUpload: 81.11 Mbit/s\\r\\n' <class 'bytes'>\n"
     ]
    }
   ],
   "source": [
    "# Code cell 7\n",
    "print(process_output, type(process_output))"
   ]
  },
  {
   "cell_type": "markdown",
   "metadata": {},
   "source": [
    "c) The speed test result is split, and a timestamp is appended to the results."
   ]
  },
  {
   "cell_type": "code",
   "execution_count": 8,
   "metadata": {},
   "outputs": [
    {
     "name": "stdout",
     "output_type": "stream",
     "text": [
      "[b'Ping:', b'11.283', b'ms', b'Download:', b'75.40', b'Mbit/s', b'Upload:', b'81.11', b'Mbit/s', '2021-02-24 00:42:12'] <class 'list'>\n"
     ]
    }
   ],
   "source": [
    "# Code cell 8\n",
    "# Store the time at which the speedtest was executed\n",
    "date_time = datetime.datetime.now().strftime(\"%Y-%m-%d %H:%M:%S\")\n",
    "process_output = process_output.split()\n",
    "process_output.append(date_time)\n",
    "print(process_output, type(process_output))"
   ]
  },
  {
   "cell_type": "markdown",
   "metadata": {},
   "source": [
    "d) The speedtest() function is created to return the results from the speedtest-cli command."
   ]
  },
  {
   "cell_type": "code",
   "execution_count": 9,
   "metadata": {},
   "outputs": [],
   "source": [
    "# Code cell 9\n",
    "# function to excute the speed test\n",
    "def speedtest():\n",
    "    # We need to store the time at which the speedtest was executed\n",
    "    date_time = datetime.datetime.now().strftime(\"%Y-%m-%d %H:%M:%S\")\n",
    "    # This is a string that contains what we would write on the command line \n",
    "    #to interface with speedtest.net\n",
    "    speedtest_cmd = \"speedtest-cli --simple\"\n",
    "    # We now execute the process: \n",
    "    process = subprocess.Popen(speedtest_cmd.split(), stdout=subprocess.PIPE)\n",
    "    process_output = process.communicate()[0]\n",
    "    process_output = process_output.split()\n",
    "    # and we add the date and time \n",
    "    process_output.append(date_time)\n",
    "    return process_output"
   ]
  },
  {
   "cell_type": "markdown",
   "metadata": {},
   "source": [
    "What does the speedtest() function return? What is the code to view results from the speedtest() function?"
   ]
  },
  {
   "cell_type": "markdown",
   "metadata": {},
   "source": []
  },
  {
   "cell_type": "code",
   "execution_count": 10,
   "metadata": {},
   "outputs": [
    {
     "data": {
      "text/plain": [
       "[b'Ping:',\n",
       " b'6.596',\n",
       " b'ms',\n",
       " b'Download:',\n",
       " b'71.83',\n",
       " b'Mbit/s',\n",
       " b'Upload:',\n",
       " b'85.07',\n",
       " b'Mbit/s',\n",
       " '2021-02-24 00:42:13']"
      ]
     },
     "execution_count": 10,
     "metadata": {},
     "output_type": "execute_result"
    }
   ],
   "source": [
    "# Code cell 10 \n",
    "# Code to view the results from speedtest() function\n",
    "speedtest()"
   ]
  },
  {
   "cell_type": "markdown",
   "metadata": {},
   "source": [
    "#### Step 4: Store the output of the `speedtest()` function.\n",
    "\n",
    "The comma separated values (csv) is the most common import and export format for spreadsheets and databases. To learn more information about working with csv in Python, navigate to https://docs.python.org/2/library/csv.html."
   ]
  },
  {
   "cell_type": "markdown",
   "metadata": {},
   "source": [
    "a) Create a file named test.txt in the /tmp directory and write \"test_msg\" in the file."
   ]
  },
  {
   "cell_type": "code",
   "execution_count": 11,
   "metadata": {},
   "outputs": [],
   "source": [
    "# Code cell 11\n",
    "with open(\"./test.txt\",'w') as f:\n",
    "    f.write('test_msg')"
   ]
  },
  {
   "cell_type": "markdown",
   "metadata": {},
   "source": [
    "b) Use the Linux command `cat` to verify the creation and content of the file."
   ]
  },
  {
   "cell_type": "code",
   "execution_count": 12,
   "metadata": {},
   "outputs": [
    {
     "name": "stdout",
     "output_type": "stream",
     "text": [
      "test_msg\n"
     ]
    }
   ],
   "source": [
    "# Code cell 12\n",
    "!cat ./test.txt"
   ]
  },
  {
   "cell_type": "markdown",
   "metadata": {},
   "source": [
    "c) To check that the file was successfully open:"
   ]
  },
  {
   "cell_type": "code",
   "execution_count": 13,
   "metadata": {},
   "outputs": [
    {
     "name": "stdout",
     "output_type": "stream",
     "text": [
      "test_msg\n"
     ]
    }
   ],
   "source": [
    "# Code cell 13\n",
    "with open(\"./test.txt\",'r') as f:\n",
    "   str = f.read()\n",
    "print(str)"
   ]
  },
  {
   "cell_type": "markdown",
   "metadata": {},
   "source": [
    "d) Understanding the meaning of the `with` statement, especially in combination with `try` and `except` is not required for the rest of this lab, but a useful resource about this is http://effbot.org/zone/python-with-statement.htm.\n",
    "<p>\n",
    "To write into a `csv` file, it is necessary to create a `csv.writer` object. Check https://docs.python.org/2/library/csv.html and find out which function of the 'csv.writer' object can be used to add a row to a `csv` file."
   ]
  },
  {
   "cell_type": "code",
   "execution_count": 14,
   "metadata": {},
   "outputs": [],
   "source": [
    "# Code cell 14\n",
    "# function to save data to csv\n",
    "def save_to_csv(data, filename):\n",
    "    try:\n",
    "        # If the file exists, we want to append a new line to it, with the \n",
    "        #results of the current experiment\n",
    "        with open(filename + '.csv', 'a') as f:\n",
    "            wr = csv.writer(f)\n",
    "            wr.writerow(data)\n",
    "    except:\n",
    "        # If it does not exist, create the file first\n",
    "        with open(filename + '.csv', 'w') as f:\n",
    "            # Hint: This is similar to appending new lines to a file.  \n",
    "            # Create a csv writer object\n",
    "            wr = csv.writer(f)   \n",
    "            # Save (write) to file\n",
    "            wr.writerow(data)"
   ]
  },
  {
   "cell_type": "markdown",
   "metadata": {},
   "source": [
    "#### Step 5: Check the collected data.\n",
    "Write a function to open a csv file and print its content to screen. You can find an example in the 13.1.5 section of https://docs.python.org/2/library/csv.html"
   ]
  },
  {
   "cell_type": "code",
   "execution_count": 48,
   "metadata": {},
   "outputs": [],
   "source": [
    "# Code cell 15\n",
    "def print_from_csv(filename): \n",
    "    with open(filename + '.csv', 'r') as f:\n",
    "            re = csv.reader(f)\n",
    "            # 1. Loop over the rows\n",
    "            for row in re:\n",
    "                # 2. print\n",
    "                print (row)"
   ]
  },
  {
   "cell_type": "markdown",
   "metadata": {},
   "source": [
    "Now, all the functions needed to collect and store Internet speed data are finished.\n",
    "#### Step 6: Run the Speedtest multiple times and store the data.\n",
    "a) Write a `for` loop that calls the speedtest 5 times, prints the output of the tests, and stores the data in a csv file."
   ]
  },
  {
   "cell_type": "code",
   "execution_count": 17,
   "metadata": {
    "scrolled": false
   },
   "outputs": [
    {
     "name": "stdout",
     "output_type": "stream",
     "text": [
      "Test number 0\n",
      "[b'Ping:', b'6.881', b'ms', b'Download:', b'71.44', b'Mbit/s', b'Upload:', b'74.68', b'Mbit/s', '2021-02-24 00:45:31']\n",
      "Test number 1\n",
      "[b'Ping:', b'7.135', b'ms', b'Download:', b'76.58', b'Mbit/s', b'Upload:', b'85.34', b'Mbit/s', '2021-02-24 00:45:55']\n",
      "Test number 2\n",
      "[b'Ping:', b'6.881', b'ms', b'Download:', b'72.07', b'Mbit/s', b'Upload:', b'79.36', b'Mbit/s', '2021-02-24 00:46:18']\n",
      "Test number 3\n",
      "[b'Ping:', b'9.425', b'ms', b'Download:', b'72.47', b'Mbit/s', b'Upload:', b'68.39', b'Mbit/s', '2021-02-24 00:46:42']\n",
      "Test number 4\n",
      "[b'Ping:', b'6.115', b'ms', b'Download:', b'72.78', b'Mbit/s', b'Upload:', b'82.65', b'Mbit/s', '2021-02-24 00:47:05']\n"
     ]
    }
   ],
   "source": [
    "# Code cell 16\n",
    "for i in range(5):\n",
    "    speedtest_output = speedtest()\n",
    "    print('Test number {}'.format(i))\n",
    "    print(speedtest_output)\n",
    "    save_to_csv(speedtest_output, './rpi_data_test')\n",
    "    "
   ]
  },
  {
   "cell_type": "markdown",
   "metadata": {},
   "source": [
    "b) Display the file to verify that the data has been saved correctly."
   ]
  },
  {
   "cell_type": "code",
   "execution_count": 27,
   "metadata": {},
   "outputs": [
    {
     "name": "stdout",
     "output_type": "stream",
     "text": [
      "[\"b'Ping:'\", \"b'13.045'\", \"b'ms'\", \"b'Download:'\", \"b'5.61'\", \"b'Mbit/s'\", \"b'Upload:'\", \"b'2.30'\", \"b'Mbit/s'\", '2017-07-07 11:37:00']\n",
      "[]\n",
      "[\"b'Ping:'\", \"b'34.637'\", \"b'ms'\", \"b'Download:'\", \"b'5.45'\", \"b'Mbit/s'\", \"b'Upload:'\", \"b'1.25'\", \"b'Mbit/s'\", '2017-07-07 11:37:26']\n",
      "[]\n",
      "[\"b'Ping:'\", \"b'13.103'\", \"b'ms'\", \"b'Download:'\", \"b'2.92'\", \"b'Mbit/s'\", \"b'Upload:'\", \"b'0.87'\", \"b'Mbit/s'\", '2017-07-07 11:37:59']\n",
      "[]\n",
      "[\"b'Ping:'\", \"b'15.088'\", \"b'ms'\", \"b'Download:'\", \"b'4.91'\", \"b'Mbit/s'\", \"b'Upload:'\", \"b'0.87'\", \"b'Mbit/s'\", '2017-07-07 11:38:33']\n",
      "[]\n",
      "[\"b'Ping:'\", \"b'26.148'\", \"b'ms'\", \"b'Download:'\", \"b'3.81'\", \"b'Mbit/s'\", \"b'Upload:'\", \"b'0.72'\", \"b'Mbit/s'\", '2017-07-07 11:39:15']\n",
      "[]\n",
      "[\"b'Ping:'\", \"b'11.996'\", \"b'ms'\", \"b'Download:'\", \"b'2.83'\", \"b'Mbit/s'\", \"b'Upload:'\", \"b'0.70'\", \"b'Mbit/s'\", '2017-07-07 17:31:16']\n",
      "[]\n",
      "[\"b'Ping:'\", \"b'18.365'\", \"b'ms'\", \"b'Download:'\", \"b'7.03'\", \"b'Mbit/s'\", \"b'Upload:'\", \"b'1.37'\", \"b'Mbit/s'\", '2017-07-07 17:32:00']\n",
      "[]\n",
      "[\"b'Ping:'\", \"b'14.503'\", \"b'ms'\", \"b'Download:'\", \"b'5.90'\", \"b'Mbit/s'\", \"b'Upload:'\", \"b'1.22'\", \"b'Mbit/s'\", '2017-07-07 17:32:35']\n",
      "[]\n",
      "[\"b'Ping:'\", \"b'15.939'\", \"b'ms'\", \"b'Download:'\", \"b'4.56'\", \"b'Mbit/s'\", \"b'Upload:'\", \"b'1.95'\", \"b'Mbit/s'\", '2017-07-07 17:33:07']\n",
      "[]\n",
      "[\"b'Ping:'\", \"b'12.202'\", \"b'ms'\", \"b'Download:'\", \"b'9.56'\", \"b'Mbit/s'\", \"b'Upload:'\", \"b'2.11'\", \"b'Mbit/s'\", '2017-07-07 17:33:45']\n",
      "[]\n",
      "[\"b'Ping:'\", \"b'42.454'\", \"b'ms'\", \"b'Download:'\", \"b'43.92'\", \"b'Mbit/s'\", \"b'Upload:'\", \"b'48.74'\", \"b'Mbit/s'\", '2017-09-06 12:57:37']\n",
      "[]\n",
      "[\"b'Ping:'\", \"b'41.788'\", \"b'ms'\", \"b'Download:'\", \"b'31.05'\", \"b'Mbit/s'\", \"b'Upload:'\", \"b'35.12'\", \"b'Mbit/s'\", '2017-09-06 12:57:57']\n",
      "[]\n",
      "[\"b'Ping:'\", \"b'43.324'\", \"b'ms'\", \"b'Download:'\", \"b'40.59'\", \"b'Mbit/s'\", \"b'Upload:'\", \"b'45.78'\", \"b'Mbit/s'\", '2017-09-06 12:58:19']\n",
      "[]\n",
      "[\"b'Ping:'\", \"b'42.174'\", \"b'ms'\", \"b'Download:'\", \"b'42.51'\", \"b'Mbit/s'\", \"b'Upload:'\", \"b'48.44'\", \"b'Mbit/s'\", '2017-09-06 12:58:40']\n",
      "[]\n",
      "[\"b'Ping:'\", \"b'43.387'\", \"b'ms'\", \"b'Download:'\", \"b'40.77'\", \"b'Mbit/s'\", \"b'Upload:'\", \"b'50.28'\", \"b'Mbit/s'\", '2017-09-06 12:59:00']\n",
      "[]\n",
      "[\"b'Ping:'\", \"b'20.17'\", \"b'ms'\", \"b'Download:'\", \"b'3.00'\", \"b'Mbit/s'\", \"b'Upload:'\", \"b'0.20'\", \"b'Mbit/s'\", '2017-09-07 17:54:01']\n",
      "[\"b'Ping:'\", \"b'27.281'\", \"b'ms'\", \"b'Download:'\", \"b'4.73'\", \"b'Mbit/s'\", \"b'Upload:'\", \"b'0.97'\", \"b'Mbit/s'\", '2017-09-07 17:54:46']\n",
      "[\"b'Ping:'\", \"b'24.086'\", \"b'ms'\", \"b'Download:'\", \"b'4.83'\", \"b'Mbit/s'\", \"b'Upload:'\", \"b'0.48'\", \"b'Mbit/s'\", '2017-09-07 17:55:28']\n",
      "[\"b'Ping:'\", \"b'21.594'\", \"b'ms'\", \"b'Download:'\", \"b'4.03'\", \"b'Mbit/s'\", \"b'Upload:'\", \"b'0.67'\", \"b'Mbit/s'\", '2017-09-07 17:56:03']\n",
      "[\"b'Ping:'\", \"b'22.573'\", \"b'ms'\", \"b'Download:'\", \"b'2.90'\", \"b'Mbit/s'\", \"b'Upload:'\", \"b'0.51'\", \"b'Mbit/s'\", '2017-09-07 17:56:37']\n",
      "[\"b'Ping:'\", \"b'21.763'\", \"b'ms'\", \"b'Download:'\", \"b'2.70'\", \"b'Mbit/s'\", \"b'Upload:'\", \"b'0.95'\", \"b'Mbit/s'\", '2017-09-07 18:00:48']\n",
      "[\"b'Ping:'\", \"b'20.683'\", \"b'ms'\", \"b'Download:'\", \"b'3.93'\", \"b'Mbit/s'\", \"b'Upload:'\", \"b'0.67'\", \"b'Mbit/s'\", '2017-09-07 18:01:23']\n",
      "[\"b'Ping:'\", \"b'21.532'\", \"b'ms'\", \"b'Download:'\", \"b'3.96'\", \"b'Mbit/s'\", \"b'Upload:'\", \"b'0.69'\", \"b'Mbit/s'\", '2017-09-07 18:02:01']\n",
      "[\"b'Ping:'\", \"b'22.31'\", \"b'ms'\", \"b'Download:'\", \"b'5.32'\", \"b'Mbit/s'\", \"b'Upload:'\", \"b'0.65'\", \"b'Mbit/s'\", '2017-09-07 18:02:36']\n",
      "[\"b'Ping:'\", \"b'23.915'\", \"b'ms'\", \"b'Download:'\", \"b'5.43'\", \"b'Mbit/s'\", \"b'Upload:'\", \"b'0.89'\", \"b'Mbit/s'\", '2017-09-07 18:03:05']\n",
      "[\"b'Ping:'\", \"b'20.523'\", \"b'ms'\", \"b'Download:'\", \"b'1.38'\", \"b'Mbit/s'\", \"b'Upload:'\", \"b'0.68'\", \"b'Mbit/s'\", '2017-09-08 09:00:26']\n",
      "[\"b'Ping:'\", \"b'23.155'\", \"b'ms'\", \"b'Download:'\", \"b'5.16'\", \"b'Mbit/s'\", \"b'Upload:'\", \"b'0.87'\", \"b'Mbit/s'\", '2017-09-08 09:01:05']\n",
      "[\"b'Ping:'\", \"b'21.355'\", \"b'ms'\", \"b'Download:'\", \"b'3.42'\", \"b'Mbit/s'\", \"b'Upload:'\", \"b'0.86'\", \"b'Mbit/s'\", '2017-09-08 09:01:32']\n",
      "[\"b'Ping:'\", \"b'21.212'\", \"b'ms'\", \"b'Download:'\", \"b'3.16'\", \"b'Mbit/s'\", \"b'Upload:'\", \"b'0.69'\", \"b'Mbit/s'\", '2017-09-08 09:02:03']\n",
      "[\"b'Ping:'\", \"b'22.079'\", \"b'ms'\", \"b'Download:'\", \"b'2.23'\", \"b'Mbit/s'\", \"b'Upload:'\", \"b'0.68'\", \"b'Mbit/s'\", '2017-09-08 09:02:37']\n",
      "[\"b'Ping:'\", \"b'31.058'\", \"b'ms'\", \"b'Download:'\", \"b'3.91'\", \"b'Mbit/s'\", \"b'Upload:'\", \"b'0.94'\", \"b'Mbit/s'\", '2017-09-08 09:48:40']\n",
      "[\"b'Ping:'\", \"b'22.904'\", \"b'ms'\", \"b'Download:'\", \"b'2.18'\", \"b'Mbit/s'\", \"b'Upload:'\", \"b'0.67'\", \"b'Mbit/s'\", '2017-09-08 09:49:12']\n",
      "[\"b'Ping:'\", \"b'27.569'\", \"b'ms'\", \"b'Download:'\", \"b'3.14'\", \"b'Mbit/s'\", \"b'Upload:'\", \"b'0.65'\", \"b'Mbit/s'\", '2017-09-08 09:49:52']\n",
      "[\"b'Ping:'\", \"b'23.802'\", \"b'ms'\", \"b'Download:'\", \"b'6.56'\", \"b'Mbit/s'\", \"b'Upload:'\", \"b'0.72'\", \"b'Mbit/s'\", '2017-09-08 09:50:28']\n",
      "[\"b'Ping:'\", \"b'25.286'\", \"b'ms'\", \"b'Download:'\", \"b'4.33'\", \"b'Mbit/s'\", \"b'Upload:'\", \"b'0.64'\", \"b'Mbit/s'\", '2017-09-08 09:50:58']\n",
      "[\"b'Ping:'\", \"b'6.881'\", \"b'ms'\", \"b'Download:'\", \"b'71.44'\", \"b'Mbit/s'\", \"b'Upload:'\", \"b'74.68'\", \"b'Mbit/s'\", '2021-02-24 00:45:31']\n",
      "[]\n",
      "[\"b'Ping:'\", \"b'7.135'\", \"b'ms'\", \"b'Download:'\", \"b'76.58'\", \"b'Mbit/s'\", \"b'Upload:'\", \"b'85.34'\", \"b'Mbit/s'\", '2021-02-24 00:45:55']\n",
      "[]\n",
      "[\"b'Ping:'\", \"b'6.881'\", \"b'ms'\", \"b'Download:'\", \"b'72.07'\", \"b'Mbit/s'\", \"b'Upload:'\", \"b'79.36'\", \"b'Mbit/s'\", '2021-02-24 00:46:18']\n",
      "[]\n",
      "[\"b'Ping:'\", \"b'9.425'\", \"b'ms'\", \"b'Download:'\", \"b'72.47'\", \"b'Mbit/s'\", \"b'Upload:'\", \"b'68.39'\", \"b'Mbit/s'\", '2021-02-24 00:46:42']\n",
      "[]\n",
      "[\"b'Ping:'\", \"b'6.115'\", \"b'ms'\", \"b'Download:'\", \"b'72.78'\", \"b'Mbit/s'\", \"b'Upload:'\", \"b'82.65'\", \"b'Mbit/s'\", '2021-02-24 00:47:05']\n",
      "[]\n"
     ]
    }
   ],
   "source": [
    "# Code cell 17\n",
    "print_from_csv('./rpi_data_test')"
   ]
  },
  {
   "cell_type": "markdown",
   "metadata": {},
   "source": [
    "If a bigger dataset is needed, the speedtest can be running in the background for more samples.\n",
    "\n",
    "How would you change the code if you wanted to run the code 100 times?"
   ]
  },
  {
   "cell_type": "markdown",
   "metadata": {
    "collapsed": true
   },
   "source": []
  },
  {
   "cell_type": "code",
   "execution_count": 47,
   "metadata": {},
   "outputs": [
    {
     "name": "stdout",
     "output_type": "stream",
     "text": [
      "Test number: 0\n",
      "[b'Ping:', b'6.791', b'ms', b'Download:', b'59.06', b'Mbit/s', b'Upload:', b'63.83', b'Mbit/s', '2021-02-24 21:49:15']\n",
      "Test number: 1\n",
      "[b'Ping:', b'10.185', b'ms', b'Download:', b'71.08', b'Mbit/s', b'Upload:', b'58.76', b'Mbit/s', '2021-02-24 21:49:38']\n",
      "Test number: 2\n",
      "[b'Ping:', b'10.606', b'ms', b'Download:', b'65.43', b'Mbit/s', b'Upload:', b'58.33', b'Mbit/s', '2021-02-24 21:50:02']\n",
      "Test number: 3\n",
      "[b'Ping:', b'15.865', b'ms', b'Download:', b'68.60', b'Mbit/s', b'Upload:', b'56.31', b'Mbit/s', '2021-02-24 21:50:26']\n",
      "Test number: 4\n",
      "[b'Ping:', b'15.47', b'ms', b'Download:', b'62.52', b'Mbit/s', b'Upload:', b'49.80', b'Mbit/s', '2021-02-24 21:50:51']\n",
      "Test number: 5\n",
      "[b'Ping:', b'12.433', b'ms', b'Download:', b'58.92', b'Mbit/s', b'Upload:', b'51.91', b'Mbit/s', '2021-02-24 21:51:14']\n",
      "Test number: 6\n",
      "[b'Ping:', b'5.432', b'ms', b'Download:', b'58.81', b'Mbit/s', b'Upload:', b'54.68', b'Mbit/s', '2021-02-24 21:51:37']\n",
      "Test number: 7\n",
      "[b'Ping:', b'5.25', b'ms', b'Download:', b'61.46', b'Mbit/s', b'Upload:', b'52.19', b'Mbit/s', '2021-02-24 21:52:01']\n",
      "Test number: 8\n",
      "[b'Ping:', b'7.123', b'ms', b'Download:', b'60.14', b'Mbit/s', b'Upload:', b'56.11', b'Mbit/s', '2021-02-24 21:52:25']\n",
      "Test number: 9\n",
      "[b'Ping:', b'6.358', b'ms', b'Download:', b'58.97', b'Mbit/s', b'Upload:', b'57.54', b'Mbit/s', '2021-02-24 21:52:49']\n",
      "Test number: 10\n",
      "[b'Ping:', b'7.128', b'ms', b'Download:', b'59.69', b'Mbit/s', b'Upload:', b'56.12', b'Mbit/s', '2021-02-24 21:53:12']\n",
      "Test number: 11\n",
      "[b'Ping:', b'6.339', b'ms', b'Download:', b'66.41', b'Mbit/s', b'Upload:', b'43.65', b'Mbit/s', '2021-02-24 21:53:36']\n",
      "Test number: 12\n",
      "[b'Ping:', b'8.099', b'ms', b'Download:', b'63.38', b'Mbit/s', b'Upload:', b'55.04', b'Mbit/s', '2021-02-24 21:53:59']\n",
      "Test number: 13\n",
      "[b'Ping:', b'6.819', b'ms', b'Download:', b'62.52', b'Mbit/s', b'Upload:', b'52.46', b'Mbit/s', '2021-02-24 21:54:22']\n",
      "Test number: 14\n",
      "[b'Ping:', b'7.029', b'ms', b'Download:', b'59.21', b'Mbit/s', b'Upload:', b'49.20', b'Mbit/s', '2021-02-24 21:54:46']\n",
      "Test number: 15\n",
      "[b'Ping:', b'6.545', b'ms', b'Download:', b'58.19', b'Mbit/s', b'Upload:', b'55.03', b'Mbit/s', '2021-02-24 21:55:09']\n",
      "Test number: 16\n",
      "[b'Ping:', b'8.606', b'ms', b'Download:', b'53.07', b'Mbit/s', b'Upload:', b'51.65', b'Mbit/s', '2021-02-24 21:55:33']\n",
      "Test number: 17\n",
      "[b'Ping:', b'6.098', b'ms', b'Download:', b'60.76', b'Mbit/s', b'Upload:', b'53.79', b'Mbit/s', '2021-02-24 21:55:56']\n",
      "Test number: 18\n",
      "[b'Ping:', b'6.44', b'ms', b'Download:', b'62.33', b'Mbit/s', b'Upload:', b'50.08', b'Mbit/s', '2021-02-24 21:56:20']\n",
      "Test number: 19\n",
      "[b'Ping:', b'9.52', b'ms', b'Download:', b'59.02', b'Mbit/s', b'Upload:', b'48.66', b'Mbit/s', '2021-02-24 21:56:43']\n",
      "Test number: 20\n",
      "[b'Ping:', b'12.4', b'ms', b'Download:', b'53.47', b'Mbit/s', b'Upload:', b'46.58', b'Mbit/s', '2021-02-24 21:57:07']\n",
      "Test number: 21\n",
      "[b'Ping:', b'6.15', b'ms', b'Download:', b'69.95', b'Mbit/s', b'Upload:', b'55.97', b'Mbit/s', '2021-02-24 21:57:30']\n",
      "Test number: 22\n",
      "[b'Ping:', b'6.269', b'ms', b'Download:', b'72.60', b'Mbit/s', b'Upload:', b'54.03', b'Mbit/s', '2021-02-24 21:57:54']\n",
      "Test number: 23\n",
      "[b'Ping:', b'4.351', b'ms', b'Download:', b'66.96', b'Mbit/s', b'Upload:', b'69.17', b'Mbit/s', '2021-02-24 21:58:17']\n",
      "Test number: 24\n",
      "[b'Ping:', b'12.113', b'ms', b'Download:', b'73.93', b'Mbit/s', b'Upload:', b'74.55', b'Mbit/s', '2021-02-24 21:58:41']\n",
      "Test number: 25\n",
      "[b'Ping:', b'6.798', b'ms', b'Download:', b'69.01', b'Mbit/s', b'Upload:', b'68.48', b'Mbit/s', '2021-02-24 21:59:04']\n",
      "Test number: 26\n",
      "[b'Ping:', b'8.501', b'ms', b'Download:', b'63.83', b'Mbit/s', b'Upload:', b'68.11', b'Mbit/s', '2021-02-24 21:59:27']\n",
      "Test number: 27\n",
      "[b'Ping:', b'11.778', b'ms', b'Download:', b'71.16', b'Mbit/s', b'Upload:', b'67.67', b'Mbit/s', '2021-02-24 21:59:52']\n",
      "Test number: 28\n",
      "[b'Ping:', b'4.934', b'ms', b'Download:', b'72.91', b'Mbit/s', b'Upload:', b'73.14', b'Mbit/s', '2021-02-24 22:00:15']\n",
      "Test number: 29\n",
      "[b'Ping:', b'5.742', b'ms', b'Download:', b'72.96', b'Mbit/s', b'Upload:', b'68.30', b'Mbit/s', '2021-02-24 22:00:38']\n",
      "Test number: 30\n",
      "[b'Ping:', b'9.439', b'ms', b'Download:', b'80.71', b'Mbit/s', b'Upload:', b'75.19', b'Mbit/s', '2021-02-24 22:01:01']\n",
      "Test number: 31\n",
      "[b'Ping:', b'6.273', b'ms', b'Download:', b'72.27', b'Mbit/s', b'Upload:', b'68.80', b'Mbit/s', '2021-02-24 22:01:25']\n",
      "Test number: 32\n",
      "[b'Ping:', b'4.364', b'ms', b'Download:', b'63.56', b'Mbit/s', b'Upload:', b'68.23', b'Mbit/s', '2021-02-24 22:01:48']\n",
      "Test number: 33\n",
      "[b'Ping:', b'4.393', b'ms', b'Download:', b'71.82', b'Mbit/s', b'Upload:', b'68.39', b'Mbit/s', '2021-02-24 22:02:12']\n",
      "Test number: 34\n",
      "[b'Ping:', b'7.796', b'ms', b'Download:', b'60.03', b'Mbit/s', b'Upload:', b'69.81', b'Mbit/s', '2021-02-24 22:02:35']\n",
      "Test number: 35\n",
      "[b'Ping:', b'6.308', b'ms', b'Download:', b'67.07', b'Mbit/s', b'Upload:', b'65.95', b'Mbit/s', '2021-02-24 22:02:59']\n",
      "Test number: 36\n",
      "[b'Ping:', b'5.204', b'ms', b'Download:', b'75.47', b'Mbit/s', b'Upload:', b'66.01', b'Mbit/s', '2021-02-24 22:03:22']\n",
      "Test number: 37\n",
      "[b'Ping:', b'9.85', b'ms', b'Download:', b'65.77', b'Mbit/s', b'Upload:', b'64.35', b'Mbit/s', '2021-02-24 22:03:45']\n",
      "Test number: 38\n",
      "[b'Ping:', b'8.174', b'ms', b'Download:', b'71.92', b'Mbit/s', b'Upload:', b'66.47', b'Mbit/s', '2021-02-24 22:04:09']\n",
      "Test number: 39\n",
      "[b'Ping:', b'4.654', b'ms', b'Download:', b'70.28', b'Mbit/s', b'Upload:', b'65.92', b'Mbit/s', '2021-02-24 22:04:32']\n",
      "Test number: 40\n",
      "[b'Ping:', b'4.507', b'ms', b'Download:', b'69.80', b'Mbit/s', b'Upload:', b'67.89', b'Mbit/s', '2021-02-24 22:04:56']\n",
      "Test number: 41\n",
      "[b'Ping:', b'9.647', b'ms', b'Download:', b'59.62', b'Mbit/s', b'Upload:', b'71.44', b'Mbit/s', '2021-02-24 22:05:19']\n",
      "Test number: 42\n",
      "[b'Ping:', b'7.1', b'ms', b'Download:', b'62.24', b'Mbit/s', b'Upload:', b'67.39', b'Mbit/s', '2021-02-24 22:05:43']\n",
      "Test number: 43\n",
      "[b'Ping:', b'11.438', b'ms', b'Download:', b'50.96', b'Mbit/s', b'Upload:', b'54.75', b'Mbit/s', '2021-02-24 22:06:06']\n",
      "Test number: 44\n",
      "[b'Ping:', b'7.309', b'ms', b'Download:', b'50.79', b'Mbit/s', b'Upload:', b'56.80', b'Mbit/s', '2021-02-24 22:06:30']\n",
      "Test number: 45\n",
      "[b'Ping:', b'4.557', b'ms', b'Download:', b'36.72', b'Mbit/s', b'Upload:', b'42.04', b'Mbit/s', '2021-02-24 22:06:53']\n",
      "Test number: 46\n",
      "[b'Ping:', b'12.642', b'ms', b'Download:', b'43.83', b'Mbit/s', b'Upload:', b'43.44', b'Mbit/s', '2021-02-24 22:07:17']\n",
      "Test number: 47\n",
      "[b'Ping:', b'8.28', b'ms', b'Download:', b'46.43', b'Mbit/s', b'Upload:', b'43.72', b'Mbit/s', '2021-02-24 22:07:40']\n",
      "Test number: 48\n",
      "[b'Ping:', b'8.477', b'ms', b'Download:', b'47.17', b'Mbit/s', b'Upload:', b'48.79', b'Mbit/s', '2021-02-24 22:08:04']\n",
      "Test number: 49\n",
      "[b'Ping:', b'5.222', b'ms', b'Download:', b'47.17', b'Mbit/s', b'Upload:', b'47.03', b'Mbit/s', '2021-02-24 22:08:27']\n",
      "Test number: 50\n",
      "[b'Ping:', b'6.184', b'ms', b'Download:', b'46.51', b'Mbit/s', b'Upload:', b'49.19', b'Mbit/s', '2021-02-24 22:08:52']\n",
      "Test number: 51\n",
      "[b'Ping:', b'4.559', b'ms', b'Download:', b'48.98', b'Mbit/s', b'Upload:', b'47.53', b'Mbit/s', '2021-02-24 22:09:15']\n",
      "Test number: 52\n",
      "[b'Ping:', b'7.201', b'ms', b'Download:', b'47.30', b'Mbit/s', b'Upload:', b'57.95', b'Mbit/s', '2021-02-24 22:09:40']\n",
      "Test number: 53\n",
      "[b'Ping:', b'8.669', b'ms', b'Download:', b'70.71', b'Mbit/s', b'Upload:', b'70.03', b'Mbit/s', '2021-02-24 22:10:03']\n",
      "Test number: 54\n",
      "[b'Ping:', b'5.752', b'ms', b'Download:', b'70.11', b'Mbit/s', b'Upload:', b'68.15', b'Mbit/s', '2021-02-24 22:10:26']\n",
      "Test number: 55\n",
      "[b'Ping:', b'5.734', b'ms', b'Download:', b'66.95', b'Mbit/s', b'Upload:', b'62.21', b'Mbit/s', '2021-02-24 22:10:50']\n",
      "Test number: 56\n",
      "[b'Ping:', b'13.608', b'ms', b'Download:', b'58.76', b'Mbit/s', b'Upload:', b'66.38', b'Mbit/s', '2021-02-24 22:11:13']\n",
      "Test number: 57\n",
      "[b'Ping:', b'3.841', b'ms', b'Download:', b'61.94', b'Mbit/s', b'Upload:', b'60.19', b'Mbit/s', '2021-02-24 22:11:37']\n",
      "Test number: 58\n",
      "[b'Ping:', b'4.749', b'ms', b'Download:', b'69.67', b'Mbit/s', b'Upload:', b'59.51', b'Mbit/s', '2021-02-24 22:12:00']\n",
      "Test number: 59\n",
      "[b'Ping:', b'9.249', b'ms', b'Download:', b'69.75', b'Mbit/s', b'Upload:', b'62.14', b'Mbit/s', '2021-02-24 22:12:23']\n",
      "Test number: 60\n",
      "[b'Ping:', b'4.495', b'ms', b'Download:', b'68.62', b'Mbit/s', b'Upload:', b'66.53', b'Mbit/s', '2021-02-24 22:12:47']\n",
      "Test number: 61\n",
      "[b'Ping:', b'5.387', b'ms', b'Download:', b'61.38', b'Mbit/s', b'Upload:', b'55.26', b'Mbit/s', '2021-02-24 22:13:10']\n",
      "Test number: 62\n",
      "[b'Ping:', b'7.118', b'ms', b'Download:', b'63.42', b'Mbit/s', b'Upload:', b'70.99', b'Mbit/s', '2021-02-24 22:13:33']\n",
      "Test number: 63\n",
      "[b'Ping:', b'4.909', b'ms', b'Download:', b'66.32', b'Mbit/s', b'Upload:', b'66.33', b'Mbit/s', '2021-02-24 22:13:57']\n",
      "Test number: 64\n",
      "[b'Ping:', b'4.332', b'ms', b'Download:', b'74.60', b'Mbit/s', b'Upload:', b'66.82', b'Mbit/s', '2021-02-24 22:14:22']\n",
      "Test number: 65\n",
      "[b'Ping:', b'10.439', b'ms', b'Download:', b'67.72', b'Mbit/s', b'Upload:', b'60.51', b'Mbit/s', '2021-02-24 22:14:45']\n",
      "Test number: 66\n",
      "[b'Ping:', b'9.811', b'ms', b'Download:', b'57.08', b'Mbit/s', b'Upload:', b'58.05', b'Mbit/s', '2021-02-24 22:15:09']\n",
      "Test number: 67\n",
      "[b'Ping:', b'4.942', b'ms', b'Download:', b'68.05', b'Mbit/s', b'Upload:', b'71.62', b'Mbit/s', '2021-02-24 22:15:33']\n",
      "Test number: 68\n",
      "[b'Ping:', b'4.854', b'ms', b'Download:', b'75.11', b'Mbit/s', b'Upload:', b'66.40', b'Mbit/s', '2021-02-24 22:15:57']\n",
      "Test number: 69\n",
      "[b'Ping:', b'5.268', b'ms', b'Download:', b'58.37', b'Mbit/s', b'Upload:', b'57.83', b'Mbit/s', '2021-02-24 22:16:20']\n",
      "Test number: 70\n",
      "[b'Ping:', b'8.397', b'ms', b'Download:', b'54.98', b'Mbit/s', b'Upload:', b'50.93', b'Mbit/s', '2021-02-24 22:16:43']\n",
      "Test number: 71\n",
      "[b'Ping:', b'5.027', b'ms', b'Download:', b'58.29', b'Mbit/s', b'Upload:', b'54.49', b'Mbit/s', '2021-02-24 22:17:07']\n",
      "Test number: 72\n",
      "[b'Ping:', b'5.705', b'ms', b'Download:', b'64.27', b'Mbit/s', b'Upload:', b'59.64', b'Mbit/s', '2021-02-24 22:17:30']\n",
      "Test number: 73\n",
      "[b'Ping:', b'5.834', b'ms', b'Download:', b'62.05', b'Mbit/s', b'Upload:', b'53.86', b'Mbit/s', '2021-02-24 22:17:55']\n",
      "Test number: 74\n",
      "[b'Ping:', b'15.78', b'ms', b'Download:', b'74.15', b'Mbit/s', b'Upload:', b'60.43', b'Mbit/s', '2021-02-24 22:18:18']\n",
      "Test number: 75\n",
      "[b'Ping:', b'7.778', b'ms', b'Download:', b'72.43', b'Mbit/s', b'Upload:', b'69.10', b'Mbit/s', '2021-02-24 22:18:42']\n",
      "Test number: 76\n",
      "[b'Ping:', b'9.72', b'ms', b'Download:', b'58.39', b'Mbit/s', b'Upload:', b'62.16', b'Mbit/s', '2021-02-24 22:19:05']\n",
      "Test number: 77\n",
      "[b'Ping:', b'11.758', b'ms', b'Download:', b'62.40', b'Mbit/s', b'Upload:', b'59.68', b'Mbit/s', '2021-02-24 22:19:29']\n",
      "Test number: 78\n",
      "[b'Ping:', b'11.427', b'ms', b'Download:', b'61.48', b'Mbit/s', b'Upload:', b'63.70', b'Mbit/s', '2021-02-24 22:19:53']\n",
      "Test number: 79\n",
      "[b'Ping:', b'7.251', b'ms', b'Download:', b'63.91', b'Mbit/s', b'Upload:', b'61.93', b'Mbit/s', '2021-02-24 22:20:16']\n",
      "Test number: 80\n",
      "[b'Ping:', b'8.945', b'ms', b'Download:', b'57.98', b'Mbit/s', b'Upload:', b'62.86', b'Mbit/s', '2021-02-24 22:20:39']\n",
      "Test number: 81\n",
      "[b'Ping:', b'6.724', b'ms', b'Download:', b'72.55', b'Mbit/s', b'Upload:', b'59.50', b'Mbit/s', '2021-02-24 22:21:03']\n",
      "Test number: 82\n",
      "[b'Ping:', b'8.017', b'ms', b'Download:', b'70.58', b'Mbit/s', b'Upload:', b'62.35', b'Mbit/s', '2021-02-24 22:21:27']\n",
      "Test number: 83\n",
      "[b'Ping:', b'6.252', b'ms', b'Download:', b'65.30', b'Mbit/s', b'Upload:', b'64.08', b'Mbit/s', '2021-02-24 22:21:50']\n",
      "Test number: 84\n",
      "[b'Ping:', b'6.856', b'ms', b'Download:', b'67.57', b'Mbit/s', b'Upload:', b'59.92', b'Mbit/s', '2021-02-24 22:22:13']\n",
      "Test number: 85\n",
      "[b'Ping:', b'9.625', b'ms', b'Download:', b'71.53', b'Mbit/s', b'Upload:', b'65.55', b'Mbit/s', '2021-02-24 22:22:36']\n",
      "Test number: 86\n",
      "[b'Ping:', b'5.929', b'ms', b'Download:', b'66.86', b'Mbit/s', b'Upload:', b'59.36', b'Mbit/s', '2021-02-24 22:23:00']\n",
      "Test number: 87\n",
      "[b'Ping:', b'12.241', b'ms', b'Download:', b'61.27', b'Mbit/s', b'Upload:', b'63.56', b'Mbit/s', '2021-02-24 22:23:23']\n",
      "Test number: 88\n",
      "[b'Ping:', b'14.266', b'ms', b'Download:', b'60.98', b'Mbit/s', b'Upload:', b'65.31', b'Mbit/s', '2021-02-24 22:23:46']\n",
      "Test number: 89\n",
      "[b'Ping:', b'12.174', b'ms', b'Download:', b'70.90', b'Mbit/s', b'Upload:', b'70.85', b'Mbit/s', '2021-02-24 22:24:10']\n",
      "Test number: 90\n",
      "[b'Ping:', b'7.066', b'ms', b'Download:', b'67.04', b'Mbit/s', b'Upload:', b'67.86', b'Mbit/s', '2021-02-24 22:24:33']\n",
      "Test number: 91\n",
      "[b'Ping:', b'6.429', b'ms', b'Download:', b'59.48', b'Mbit/s', b'Upload:', b'66.96', b'Mbit/s', '2021-02-24 22:24:56']\n",
      "Test number: 92\n",
      "[b'Ping:', b'12.814', b'ms', b'Download:', b'68.95', b'Mbit/s', b'Upload:', b'64.97', b'Mbit/s', '2021-02-24 22:25:20']\n",
      "Test number: 93\n",
      "[b'Ping:', b'12.059', b'ms', b'Download:', b'67.00', b'Mbit/s', b'Upload:', b'64.27', b'Mbit/s', '2021-02-24 22:25:44']\n",
      "Test number: 94\n",
      "[b'Ping:', b'6.743', b'ms', b'Download:', b'66.26', b'Mbit/s', b'Upload:', b'76.25', b'Mbit/s', '2021-02-24 22:26:07']\n",
      "Test number: 95\n",
      "[b'Ping:', b'4.511', b'ms', b'Download:', b'68.58', b'Mbit/s', b'Upload:', b'72.46', b'Mbit/s', '2021-02-24 22:26:32']\n",
      "Test number: 96\n",
      "[b'Ping:', b'4.126', b'ms', b'Download:', b'61.59', b'Mbit/s', b'Upload:', b'74.26', b'Mbit/s', '2021-02-24 22:26:55']\n",
      "Test number: 97\n",
      "[b'Ping:', b'4.664', b'ms', b'Download:', b'71.33', b'Mbit/s', b'Upload:', b'69.77', b'Mbit/s', '2021-02-24 22:27:18']\n",
      "Test number: 98\n",
      "[b'Ping:', b'5.641', b'ms', b'Download:', b'65.36', b'Mbit/s', b'Upload:', b'68.16', b'Mbit/s', '2021-02-24 22:27:41']\n",
      "Test number: 99\n",
      "[b'Ping:', b'4.188', b'ms', b'Download:', b'67.10', b'Mbit/s', b'Upload:', b'60.24', b'Mbit/s', '2021-02-24 22:28:06']\n"
     ]
    }
   ],
   "source": [
    "# Code cell 18\n",
    "# Code to run 100 times\n",
    "for i in range(100):\n",
    "# xrange () in Python 2 was renamed to range() in Python 3.\n",
    "        speedtest_output = speedtest()\n",
    "        print ('Test number: {}'.format(i))\n",
    "        print (speedtest_output)\n",
    "        save_to_csv(speedtest_output, './rpi_data')"
   ]
  },
  {
   "cell_type": "markdown",
   "metadata": {},
   "source": [
    "## Part 2: Manipulate Data"
   ]
  },
  {
   "cell_type": "markdown",
   "metadata": {},
   "source": [
    "The Python library `pandas` is very useful for working with structured data. The full documentation can be found here: http://pandas.pydata.org/pandas-docs/version/0.14.1/</font>\n",
    "\n",
    "A larger dataset collected in advance will be used for this part of the lab. The filename is `rpi_data_long.csv`.\n",
    "\n",
    "#### Step 1: Import the Python libraries.\n",
    "\n",
    "Import `pandas` and the other libraries used for the next tasks."
   ]
  },
  {
   "cell_type": "code",
   "execution_count": 49,
   "metadata": {},
   "outputs": [],
   "source": [
    "# Code cell 19\n",
    "import datetime\n",
    "import csv\n",
    "import pandas as pd\n",
    "# NumPy is a library that adds support for large, multi-dimensional arrays and matrices\n",
    "# along with high-level mathematical functions to operate on these arrays\n",
    "import numpy as np"
   ]
  },
  {
   "cell_type": "markdown",
   "metadata": {},
   "source": [
    "#### Step 2: Load the `csv` file into a `DataFrame` object using `pandas`.\n",
    "\n",
    "A `pandas DataFrame` is a 2-dimensional labeled data structure with columns of potentially different types. You can think of it like a spreadsheet or SQL table. The pandas library function `read_csv` automatically converts a `csv` file into a `DataFrame` object.\n",
    "\n",
    "Read the `read_csv` documentation in http://pandas.pydata.org/pandas-docs/version/0.14.1/generated/pandas.read_csv.html.\n",
    "This function contains a lot of parameters. The only non-optional one is the `filepath`, i.e. the location of the `csv` file. All the other parameters are optional.\n",
    "\n",
    "In this step, you will import and view the content of the csv file, `rpi_data_long.csv`. This csv file is located in the same directory as this Jupyter notebook."
   ]
  },
  {
   "cell_type": "markdown",
   "metadata": {},
   "source": [
    "a) Assign the file `rpi_data_long.csv` to the variable `data_file`."
   ]
  },
  {
   "cell_type": "code",
   "execution_count": 50,
   "metadata": {},
   "outputs": [],
   "source": [
    "# Code cell 20\n",
    "data_file = './Data/rpi_data_long.csv'"
   ]
  },
  {
   "cell_type": "markdown",
   "metadata": {},
   "source": [
    "b) Use the Linux command `head` to view the first 10 lines of the csv file."
   ]
  },
  {
   "cell_type": "code",
   "execution_count": 52,
   "metadata": {
    "scrolled": true
   },
   "outputs": [
    {
     "name": "stdout",
     "output_type": "stream",
     "text": [
      "Ping:,26.992,ms,Download:,91.80,Mbit/s,Upload:,14.31,Mbit/s,2016-11-24 13:36:25\n",
      "Ping:,24.532,ms,Download:,88.19,Mbit/s,Upload:,14.12,Mbit/s,2016-11-24 13:36:55\n",
      "Ping:,20.225,ms,Download:,59.86,Mbit/s,Upload:,14.11,Mbit/s,2016-11-24 13:37:25\n",
      "Ping:,19.332,ms,Download:,91.81,Mbit/s,Upload:,14.22,Mbit/s,2016-11-24 13:37:57\n",
      "Ping:,22.494,ms,Download:,92.05,Mbit/s,Upload:,14.08,Mbit/s,2016-11-24 13:38:27\n"
     ]
    }
   ],
   "source": [
    "# Code cell 21\n",
    "!head -n 5 ./Data/rpi_data_long.csv"
   ]
  },
  {
   "cell_type": "markdown",
   "metadata": {},
   "source": [
    "c) Use the `names` parameter of the `read_csv` function to specify the name of the `DataFrame` columns."
   ]
  },
  {
   "cell_type": "code",
   "execution_count": 53,
   "metadata": {},
   "outputs": [],
   "source": [
    "# Code cell 22\n",
    "column_names = [ 'Type A', 'Measure A', 'Units A',\n",
    "                 'Type B', 'Measure B', 'Units B',\n",
    "                 'Type C', 'Measure C', 'Units C', \n",
    "                 'Datetime']"
   ]
  },
  {
   "cell_type": "markdown",
   "metadata": {},
   "source": [
    "d) Use the `read_csv` function to read from `data_file` and assign `column_names` as the column names in the dataframe."
   ]
  },
  {
   "cell_type": "code",
   "execution_count": 54,
   "metadata": {},
   "outputs": [],
   "source": [
    "# Code cell 23\n",
    "with open(data_file, 'r') as f:\n",
    "    df_redundant = pd.read_csv(f, names = column_names)"
   ]
  },
  {
   "cell_type": "markdown",
   "metadata": {},
   "source": [
    "e) The command `head()` displays the first few rows of the dataframe."
   ]
  },
  {
   "cell_type": "code",
   "execution_count": 38,
   "metadata": {},
   "outputs": [
    {
     "data": {
      "text/html": [
       "<div>\n",
       "<style scoped>\n",
       "    .dataframe tbody tr th:only-of-type {\n",
       "        vertical-align: middle;\n",
       "    }\n",
       "\n",
       "    .dataframe tbody tr th {\n",
       "        vertical-align: top;\n",
       "    }\n",
       "\n",
       "    .dataframe thead th {\n",
       "        text-align: right;\n",
       "    }\n",
       "</style>\n",
       "<table border=\"1\" class=\"dataframe\">\n",
       "  <thead>\n",
       "    <tr style=\"text-align: right;\">\n",
       "      <th></th>\n",
       "      <th>Type A</th>\n",
       "      <th>Measure A</th>\n",
       "      <th>Units A</th>\n",
       "      <th>Type B</th>\n",
       "      <th>Measure B</th>\n",
       "      <th>Units B</th>\n",
       "      <th>Type C</th>\n",
       "      <th>Measure C</th>\n",
       "      <th>Units C</th>\n",
       "      <th>Datetime</th>\n",
       "    </tr>\n",
       "  </thead>\n",
       "  <tbody>\n",
       "    <tr>\n",
       "      <th>0</th>\n",
       "      <td>Ping:</td>\n",
       "      <td>26.992</td>\n",
       "      <td>ms</td>\n",
       "      <td>Download:</td>\n",
       "      <td>91.80</td>\n",
       "      <td>Mbit/s</td>\n",
       "      <td>Upload:</td>\n",
       "      <td>14.31</td>\n",
       "      <td>Mbit/s</td>\n",
       "      <td>2016-11-24 13:36:25</td>\n",
       "    </tr>\n",
       "    <tr>\n",
       "      <th>1</th>\n",
       "      <td>Ping:</td>\n",
       "      <td>24.532</td>\n",
       "      <td>ms</td>\n",
       "      <td>Download:</td>\n",
       "      <td>88.19</td>\n",
       "      <td>Mbit/s</td>\n",
       "      <td>Upload:</td>\n",
       "      <td>14.12</td>\n",
       "      <td>Mbit/s</td>\n",
       "      <td>2016-11-24 13:36:55</td>\n",
       "    </tr>\n",
       "    <tr>\n",
       "      <th>2</th>\n",
       "      <td>Ping:</td>\n",
       "      <td>20.225</td>\n",
       "      <td>ms</td>\n",
       "      <td>Download:</td>\n",
       "      <td>59.86</td>\n",
       "      <td>Mbit/s</td>\n",
       "      <td>Upload:</td>\n",
       "      <td>14.11</td>\n",
       "      <td>Mbit/s</td>\n",
       "      <td>2016-11-24 13:37:25</td>\n",
       "    </tr>\n",
       "    <tr>\n",
       "      <th>3</th>\n",
       "      <td>Ping:</td>\n",
       "      <td>19.332</td>\n",
       "      <td>ms</td>\n",
       "      <td>Download:</td>\n",
       "      <td>91.81</td>\n",
       "      <td>Mbit/s</td>\n",
       "      <td>Upload:</td>\n",
       "      <td>14.22</td>\n",
       "      <td>Mbit/s</td>\n",
       "      <td>2016-11-24 13:37:57</td>\n",
       "    </tr>\n",
       "    <tr>\n",
       "      <th>4</th>\n",
       "      <td>Ping:</td>\n",
       "      <td>22.494</td>\n",
       "      <td>ms</td>\n",
       "      <td>Download:</td>\n",
       "      <td>92.05</td>\n",
       "      <td>Mbit/s</td>\n",
       "      <td>Upload:</td>\n",
       "      <td>14.08</td>\n",
       "      <td>Mbit/s</td>\n",
       "      <td>2016-11-24 13:38:27</td>\n",
       "    </tr>\n",
       "    <tr>\n",
       "      <th>5</th>\n",
       "      <td>Ping:</td>\n",
       "      <td>17.586</td>\n",
       "      <td>ms</td>\n",
       "      <td>Download:</td>\n",
       "      <td>91.88</td>\n",
       "      <td>Mbit/s</td>\n",
       "      <td>Upload:</td>\n",
       "      <td>14.18</td>\n",
       "      <td>Mbit/s</td>\n",
       "      <td>2016-11-24 13:39:01</td>\n",
       "    </tr>\n",
       "    <tr>\n",
       "      <th>6</th>\n",
       "      <td>Ping:</td>\n",
       "      <td>21.835</td>\n",
       "      <td>ms</td>\n",
       "      <td>Download:</td>\n",
       "      <td>92.18</td>\n",
       "      <td>Mbit/s</td>\n",
       "      <td>Upload:</td>\n",
       "      <td>14.07</td>\n",
       "      <td>Mbit/s</td>\n",
       "      <td>2016-11-24 13:39:30</td>\n",
       "    </tr>\n",
       "    <tr>\n",
       "      <th>7</th>\n",
       "      <td>Ping:</td>\n",
       "      <td>20.464</td>\n",
       "      <td>ms</td>\n",
       "      <td>Download:</td>\n",
       "      <td>92.05</td>\n",
       "      <td>Mbit/s</td>\n",
       "      <td>Upload:</td>\n",
       "      <td>14.13</td>\n",
       "      <td>Mbit/s</td>\n",
       "      <td>2016-11-24 13:40:00</td>\n",
       "    </tr>\n",
       "    <tr>\n",
       "      <th>8</th>\n",
       "      <td>Ping:</td>\n",
       "      <td>19.293</td>\n",
       "      <td>ms</td>\n",
       "      <td>Download:</td>\n",
       "      <td>90.79</td>\n",
       "      <td>Mbit/s</td>\n",
       "      <td>Upload:</td>\n",
       "      <td>14.14</td>\n",
       "      <td>Mbit/s</td>\n",
       "      <td>2016-11-24 13:40:30</td>\n",
       "    </tr>\n",
       "    <tr>\n",
       "      <th>9</th>\n",
       "      <td>Ping:</td>\n",
       "      <td>20.354</td>\n",
       "      <td>ms</td>\n",
       "      <td>Download:</td>\n",
       "      <td>92.64</td>\n",
       "      <td>Mbit/s</td>\n",
       "      <td>Upload:</td>\n",
       "      <td>14.07</td>\n",
       "      <td>Mbit/s</td>\n",
       "      <td>2016-11-24 13:41:00</td>\n",
       "    </tr>\n",
       "    <tr>\n",
       "      <th>10</th>\n",
       "      <td>Ping:</td>\n",
       "      <td>19.01</td>\n",
       "      <td>ms</td>\n",
       "      <td>Download:</td>\n",
       "      <td>91.86</td>\n",
       "      <td>Mbit/s</td>\n",
       "      <td>Upload:</td>\n",
       "      <td>14.38</td>\n",
       "      <td>Mbit/s</td>\n",
       "      <td>2016-11-24 13:41:30</td>\n",
       "    </tr>\n",
       "    <tr>\n",
       "      <th>11</th>\n",
       "      <td>Ping:</td>\n",
       "      <td>18.092</td>\n",
       "      <td>ms</td>\n",
       "      <td>Download:</td>\n",
       "      <td>92.24</td>\n",
       "      <td>Mbit/s</td>\n",
       "      <td>Upload:</td>\n",
       "      <td>14.23</td>\n",
       "      <td>Mbit/s</td>\n",
       "      <td>2016-11-24 13:42:00</td>\n",
       "    </tr>\n",
       "    <tr>\n",
       "      <th>12</th>\n",
       "      <td>Ping:</td>\n",
       "      <td>18.137</td>\n",
       "      <td>ms</td>\n",
       "      <td>Download:</td>\n",
       "      <td>91.64</td>\n",
       "      <td>Mbit/s</td>\n",
       "      <td>Upload:</td>\n",
       "      <td>14.32</td>\n",
       "      <td>Mbit/s</td>\n",
       "      <td>2016-11-24 13:42:30</td>\n",
       "    </tr>\n",
       "    <tr>\n",
       "      <th>13</th>\n",
       "      <td>Ping:</td>\n",
       "      <td>18.344</td>\n",
       "      <td>ms</td>\n",
       "      <td>Download:</td>\n",
       "      <td>92.85</td>\n",
       "      <td>Mbit/s</td>\n",
       "      <td>Upload:</td>\n",
       "      <td>14.20</td>\n",
       "      <td>Mbit/s</td>\n",
       "      <td>2016-11-24 13:43:00</td>\n",
       "    </tr>\n",
       "    <tr>\n",
       "      <th>14</th>\n",
       "      <td>Ping:</td>\n",
       "      <td>23.328</td>\n",
       "      <td>ms</td>\n",
       "      <td>Download:</td>\n",
       "      <td>92.21</td>\n",
       "      <td>Mbit/s</td>\n",
       "      <td>Upload:</td>\n",
       "      <td>14.20</td>\n",
       "      <td>Mbit/s</td>\n",
       "      <td>2016-11-24 13:43:29</td>\n",
       "    </tr>\n",
       "    <tr>\n",
       "      <th>15</th>\n",
       "      <td>Ping:</td>\n",
       "      <td>17.908</td>\n",
       "      <td>ms</td>\n",
       "      <td>Download:</td>\n",
       "      <td>92.24</td>\n",
       "      <td>Mbit/s</td>\n",
       "      <td>Upload:</td>\n",
       "      <td>11.36</td>\n",
       "      <td>Mbit/s</td>\n",
       "      <td>2016-11-24 13:43:59</td>\n",
       "    </tr>\n",
       "    <tr>\n",
       "      <th>16</th>\n",
       "      <td>Ping:</td>\n",
       "      <td>19.291</td>\n",
       "      <td>ms</td>\n",
       "      <td>Download:</td>\n",
       "      <td>92.41</td>\n",
       "      <td>Mbit/s</td>\n",
       "      <td>Upload:</td>\n",
       "      <td>14.03</td>\n",
       "      <td>Mbit/s</td>\n",
       "      <td>2016-11-24 13:44:31</td>\n",
       "    </tr>\n",
       "    <tr>\n",
       "      <th>17</th>\n",
       "      <td>Ping:</td>\n",
       "      <td>20.117</td>\n",
       "      <td>ms</td>\n",
       "      <td>Download:</td>\n",
       "      <td>90.39</td>\n",
       "      <td>Mbit/s</td>\n",
       "      <td>Upload:</td>\n",
       "      <td>14.17</td>\n",
       "      <td>Mbit/s</td>\n",
       "      <td>2016-11-24 13:45:01</td>\n",
       "    </tr>\n",
       "    <tr>\n",
       "      <th>18</th>\n",
       "      <td>Ping:</td>\n",
       "      <td>19.579</td>\n",
       "      <td>ms</td>\n",
       "      <td>Download:</td>\n",
       "      <td>92.55</td>\n",
       "      <td>Mbit/s</td>\n",
       "      <td>Upload:</td>\n",
       "      <td>14.06</td>\n",
       "      <td>Mbit/s</td>\n",
       "      <td>2016-11-24 13:45:32</td>\n",
       "    </tr>\n",
       "    <tr>\n",
       "      <th>19</th>\n",
       "      <td>Ping:</td>\n",
       "      <td>16.364</td>\n",
       "      <td>ms</td>\n",
       "      <td>Download:</td>\n",
       "      <td>78.51</td>\n",
       "      <td>Mbit/s</td>\n",
       "      <td>Upload:</td>\n",
       "      <td>13.71</td>\n",
       "      <td>Mbit/s</td>\n",
       "      <td>2016-11-24 13:46:02</td>\n",
       "    </tr>\n",
       "  </tbody>\n",
       "</table>\n",
       "</div>"
      ],
      "text/plain": [
       "   Type A Measure A Units A     Type B Measure B Units B   Type C  Measure C  \\\n",
       "0   Ping:    26.992      ms  Download:     91.80  Mbit/s  Upload:      14.31   \n",
       "1   Ping:    24.532      ms  Download:     88.19  Mbit/s  Upload:      14.12   \n",
       "2   Ping:    20.225      ms  Download:     59.86  Mbit/s  Upload:      14.11   \n",
       "3   Ping:    19.332      ms  Download:     91.81  Mbit/s  Upload:      14.22   \n",
       "4   Ping:    22.494      ms  Download:     92.05  Mbit/s  Upload:      14.08   \n",
       "5   Ping:    17.586      ms  Download:     91.88  Mbit/s  Upload:      14.18   \n",
       "6   Ping:    21.835      ms  Download:     92.18  Mbit/s  Upload:      14.07   \n",
       "7   Ping:    20.464      ms  Download:     92.05  Mbit/s  Upload:      14.13   \n",
       "8   Ping:    19.293      ms  Download:     90.79  Mbit/s  Upload:      14.14   \n",
       "9   Ping:    20.354      ms  Download:     92.64  Mbit/s  Upload:      14.07   \n",
       "10  Ping:     19.01      ms  Download:     91.86  Mbit/s  Upload:      14.38   \n",
       "11  Ping:    18.092      ms  Download:     92.24  Mbit/s  Upload:      14.23   \n",
       "12  Ping:    18.137      ms  Download:     91.64  Mbit/s  Upload:      14.32   \n",
       "13  Ping:    18.344      ms  Download:     92.85  Mbit/s  Upload:      14.20   \n",
       "14  Ping:    23.328      ms  Download:     92.21  Mbit/s  Upload:      14.20   \n",
       "15  Ping:    17.908      ms  Download:     92.24  Mbit/s  Upload:      11.36   \n",
       "16  Ping:    19.291      ms  Download:     92.41  Mbit/s  Upload:      14.03   \n",
       "17  Ping:    20.117      ms  Download:     90.39  Mbit/s  Upload:      14.17   \n",
       "18  Ping:    19.579      ms  Download:     92.55  Mbit/s  Upload:      14.06   \n",
       "19  Ping:    16.364      ms  Download:     78.51  Mbit/s  Upload:      13.71   \n",
       "\n",
       "   Units C             Datetime  \n",
       "0   Mbit/s  2016-11-24 13:36:25  \n",
       "1   Mbit/s  2016-11-24 13:36:55  \n",
       "2   Mbit/s  2016-11-24 13:37:25  \n",
       "3   Mbit/s  2016-11-24 13:37:57  \n",
       "4   Mbit/s  2016-11-24 13:38:27  \n",
       "5   Mbit/s  2016-11-24 13:39:01  \n",
       "6   Mbit/s  2016-11-24 13:39:30  \n",
       "7   Mbit/s  2016-11-24 13:40:00  \n",
       "8   Mbit/s  2016-11-24 13:40:30  \n",
       "9   Mbit/s  2016-11-24 13:41:00  \n",
       "10  Mbit/s  2016-11-24 13:41:30  \n",
       "11  Mbit/s  2016-11-24 13:42:00  \n",
       "12  Mbit/s  2016-11-24 13:42:30  \n",
       "13  Mbit/s  2016-11-24 13:43:00  \n",
       "14  Mbit/s  2016-11-24 13:43:29  \n",
       "15  Mbit/s  2016-11-24 13:43:59  \n",
       "16  Mbit/s  2016-11-24 13:44:31  \n",
       "17  Mbit/s  2016-11-24 13:45:01  \n",
       "18  Mbit/s  2016-11-24 13:45:32  \n",
       "19  Mbit/s  2016-11-24 13:46:02  "
      ]
     },
     "execution_count": 38,
     "metadata": {},
     "output_type": "execute_result"
    }
   ],
   "source": [
    "# Code cell 24\n",
    "# You can specify the number of rows you want to print to screen: \n",
    "# you do so passing the number as an argument to the function\n",
    "# (e.g., head(10))\n",
    "df_redundant.head(20)"
   ]
  },
  {
   "cell_type": "markdown",
   "metadata": {},
   "source": [
    "What is the code to read the first 20 lines of the csv file?"
   ]
  },
  {
   "cell_type": "markdown",
   "metadata": {},
   "source": []
  },
  {
   "cell_type": "markdown",
   "metadata": {},
   "source": [
    "#### Step 3: Create a concise representation.\n",
    "In this step, you will create a more compact representation using a copy of the data frame `df_redundant`."
   ]
  },
  {
   "cell_type": "markdown",
   "metadata": {},
   "source": [
    "a) Copy `df_redundant` into another dataframe called `df_compact` using `copy()`."
   ]
  },
  {
   "cell_type": "code",
   "execution_count": 55,
   "metadata": {},
   "outputs": [],
   "source": [
    "# Code cell 25\n",
    "df_compact = df_redundant.copy()"
   ]
  },
  {
   "cell_type": "markdown",
   "metadata": {},
   "source": [
    "b) Rename the columns relative to the measures as shown:\n",
    "\n",
    "    Measure A -> Ping (ms)\n",
    "    Measure B -> Download (Mbit/s)\n",
    "    Measure C -> Upload (Mbit/s)"
   ]
  },
  {
   "cell_type": "code",
   "execution_count": 56,
   "metadata": {
    "scrolled": true
   },
   "outputs": [
    {
     "data": {
      "text/html": [
       "<div>\n",
       "<style scoped>\n",
       "    .dataframe tbody tr th:only-of-type {\n",
       "        vertical-align: middle;\n",
       "    }\n",
       "\n",
       "    .dataframe tbody tr th {\n",
       "        vertical-align: top;\n",
       "    }\n",
       "\n",
       "    .dataframe thead th {\n",
       "        text-align: right;\n",
       "    }\n",
       "</style>\n",
       "<table border=\"1\" class=\"dataframe\">\n",
       "  <thead>\n",
       "    <tr style=\"text-align: right;\">\n",
       "      <th></th>\n",
       "      <th>Type A</th>\n",
       "      <th>Ping (ms)</th>\n",
       "      <th>Units A</th>\n",
       "      <th>Type B</th>\n",
       "      <th>Download (Mbit/s)</th>\n",
       "      <th>Units B</th>\n",
       "      <th>Type C</th>\n",
       "      <th>Upload (Mbit/s)</th>\n",
       "      <th>Units C</th>\n",
       "      <th>Datetime</th>\n",
       "    </tr>\n",
       "  </thead>\n",
       "  <tbody>\n",
       "    <tr>\n",
       "      <th>0</th>\n",
       "      <td>Ping:</td>\n",
       "      <td>26.992</td>\n",
       "      <td>ms</td>\n",
       "      <td>Download:</td>\n",
       "      <td>91.80</td>\n",
       "      <td>Mbit/s</td>\n",
       "      <td>Upload:</td>\n",
       "      <td>14.31</td>\n",
       "      <td>Mbit/s</td>\n",
       "      <td>2016-11-24 13:36:25</td>\n",
       "    </tr>\n",
       "    <tr>\n",
       "      <th>1</th>\n",
       "      <td>Ping:</td>\n",
       "      <td>24.532</td>\n",
       "      <td>ms</td>\n",
       "      <td>Download:</td>\n",
       "      <td>88.19</td>\n",
       "      <td>Mbit/s</td>\n",
       "      <td>Upload:</td>\n",
       "      <td>14.12</td>\n",
       "      <td>Mbit/s</td>\n",
       "      <td>2016-11-24 13:36:55</td>\n",
       "    </tr>\n",
       "    <tr>\n",
       "      <th>2</th>\n",
       "      <td>Ping:</td>\n",
       "      <td>20.225</td>\n",
       "      <td>ms</td>\n",
       "      <td>Download:</td>\n",
       "      <td>59.86</td>\n",
       "      <td>Mbit/s</td>\n",
       "      <td>Upload:</td>\n",
       "      <td>14.11</td>\n",
       "      <td>Mbit/s</td>\n",
       "      <td>2016-11-24 13:37:25</td>\n",
       "    </tr>\n",
       "  </tbody>\n",
       "</table>\n",
       "</div>"
      ],
      "text/plain": [
       "  Type A Ping (ms) Units A     Type B Download (Mbit/s) Units B   Type C  \\\n",
       "0  Ping:    26.992      ms  Download:             91.80  Mbit/s  Upload:   \n",
       "1  Ping:    24.532      ms  Download:             88.19  Mbit/s  Upload:   \n",
       "2  Ping:    20.225      ms  Download:             59.86  Mbit/s  Upload:   \n",
       "\n",
       "   Upload (Mbit/s) Units C             Datetime  \n",
       "0            14.31  Mbit/s  2016-11-24 13:36:25  \n",
       "1            14.12  Mbit/s  2016-11-24 13:36:55  \n",
       "2            14.11  Mbit/s  2016-11-24 13:37:25  "
      ]
     },
     "execution_count": 56,
     "metadata": {},
     "output_type": "execute_result"
    }
   ],
   "source": [
    "# Code cell 26\n",
    "df_compact.rename(columns={'Measure A':'Ping (ms)', \n",
    "                           'Measure B': 'Download (Mbit/s)',\n",
    "                           'Measure C': 'Upload (Mbit/s)'}, inplace=True)\n",
    "df_compact.head(3)"
   ]
  },
  {
   "cell_type": "markdown",
   "metadata": {},
   "source": [
    "c) Because the Types and Units columns are no longer necessary, these columns can be dropped."
   ]
  },
  {
   "cell_type": "code",
   "execution_count": 57,
   "metadata": {},
   "outputs": [
    {
     "data": {
      "text/html": [
       "<div>\n",
       "<style scoped>\n",
       "    .dataframe tbody tr th:only-of-type {\n",
       "        vertical-align: middle;\n",
       "    }\n",
       "\n",
       "    .dataframe tbody tr th {\n",
       "        vertical-align: top;\n",
       "    }\n",
       "\n",
       "    .dataframe thead th {\n",
       "        text-align: right;\n",
       "    }\n",
       "</style>\n",
       "<table border=\"1\" class=\"dataframe\">\n",
       "  <thead>\n",
       "    <tr style=\"text-align: right;\">\n",
       "      <th></th>\n",
       "      <th>Ping (ms)</th>\n",
       "      <th>Download (Mbit/s)</th>\n",
       "      <th>Upload (Mbit/s)</th>\n",
       "      <th>Datetime</th>\n",
       "    </tr>\n",
       "  </thead>\n",
       "  <tbody>\n",
       "    <tr>\n",
       "      <th>0</th>\n",
       "      <td>26.992</td>\n",
       "      <td>91.80</td>\n",
       "      <td>14.31</td>\n",
       "      <td>2016-11-24 13:36:25</td>\n",
       "    </tr>\n",
       "    <tr>\n",
       "      <th>1</th>\n",
       "      <td>24.532</td>\n",
       "      <td>88.19</td>\n",
       "      <td>14.12</td>\n",
       "      <td>2016-11-24 13:36:55</td>\n",
       "    </tr>\n",
       "    <tr>\n",
       "      <th>2</th>\n",
       "      <td>20.225</td>\n",
       "      <td>59.86</td>\n",
       "      <td>14.11</td>\n",
       "      <td>2016-11-24 13:37:25</td>\n",
       "    </tr>\n",
       "    <tr>\n",
       "      <th>3</th>\n",
       "      <td>19.332</td>\n",
       "      <td>91.81</td>\n",
       "      <td>14.22</td>\n",
       "      <td>2016-11-24 13:37:57</td>\n",
       "    </tr>\n",
       "    <tr>\n",
       "      <th>4</th>\n",
       "      <td>22.494</td>\n",
       "      <td>92.05</td>\n",
       "      <td>14.08</td>\n",
       "      <td>2016-11-24 13:38:27</td>\n",
       "    </tr>\n",
       "  </tbody>\n",
       "</table>\n",
       "</div>"
      ],
      "text/plain": [
       "  Ping (ms) Download (Mbit/s)  Upload (Mbit/s)             Datetime\n",
       "0    26.992             91.80            14.31  2016-11-24 13:36:25\n",
       "1    24.532             88.19            14.12  2016-11-24 13:36:55\n",
       "2    20.225             59.86            14.11  2016-11-24 13:37:25\n",
       "3    19.332             91.81            14.22  2016-11-24 13:37:57\n",
       "4    22.494             92.05            14.08  2016-11-24 13:38:27"
      ]
     },
     "execution_count": 57,
     "metadata": {},
     "output_type": "execute_result"
    }
   ],
   "source": [
    "# Code cell 27\n",
    "df_compact.drop(['Type A', 'Type B', 'Type C',\n",
    "         'Units A', 'Units B', 'Units C'], axis=1, inplace=True)\n",
    "df_compact.head()"
   ]
  },
  {
   "cell_type": "markdown",
   "metadata": {},
   "source": [
    "In the table above, the `Datetime` field is a string. Pandas and Python offer a number of operations to work with date and time that can be very helpful.\n",
    "\n",
    "In the next step, the string in the `Datetime` column will be separated into two new columns.\n",
    "\n",
    "#### Step 4: Separate data into two columns.\n",
    "In this step, you will use Pandas to generate the columns `Date` and `Time` from the column `Datetime` and then drop the `Datetime` column.\n",
    "<p>The `lambda` function is used create two anonymous functions that extract only the date and the time from a `datetime` object, respectively. Then, use the `pandas` function `apply` to apply this function to an entire column (in practice, `apply` implicitly defines a `for` loop and passes the rows one by one to our `lambda` function). Store the result of the `apply` functions in two new columns of the `DataFrame`."
   ]
  },
  {
   "cell_type": "markdown",
   "metadata": {},
   "source": [
    "a) Apply the `lambda` function to iterate through the data frame to split the date from the `Datetime` column."
   ]
  },
  {
   "cell_type": "code",
   "execution_count": 58,
   "metadata": {},
   "outputs": [],
   "source": [
    "# Code cell 28\n",
    "df_compact['Date'] = df_compact['Datetime'].apply(lambda dt_str: pd.to_datetime(dt_str).date())"
   ]
  },
  {
   "cell_type": "markdown",
   "metadata": {},
   "source": [
    "b) Repeat step a to split time from `Datetime` column. "
   ]
  },
  {
   "cell_type": "code",
   "execution_count": 59,
   "metadata": {},
   "outputs": [],
   "source": [
    "# Code cell 29\n",
    "# Please note, this requires an intermediate step, because of how NaT are treated by the time() function.\n",
    "# Reference: https://github.com/pandas-dev/pandas/issues/11453\n",
    "temp = df_compact['Datetime'].apply(lambda dt_str: pd.to_datetime(dt_str))\n",
    "df_compact['Time'] = temp.dt.time"
   ]
  },
  {
   "cell_type": "markdown",
   "metadata": {},
   "source": [
    "c) All the information for the `Datetime` column has now been copied to the `Date` and `Time` columnns. The `Datetime` column serves no purpose. The `Datetime` column can be dropped from the data frame.\n",
    "<p>Enter the code to drop the `Datetime` column in the cell below."
   ]
  },
  {
   "cell_type": "code",
   "execution_count": 61,
   "metadata": {},
   "outputs": [
    {
     "data": {
      "text/html": [
       "<div>\n",
       "<style scoped>\n",
       "    .dataframe tbody tr th:only-of-type {\n",
       "        vertical-align: middle;\n",
       "    }\n",
       "\n",
       "    .dataframe tbody tr th {\n",
       "        vertical-align: top;\n",
       "    }\n",
       "\n",
       "    .dataframe thead th {\n",
       "        text-align: right;\n",
       "    }\n",
       "</style>\n",
       "<table border=\"1\" class=\"dataframe\">\n",
       "  <thead>\n",
       "    <tr style=\"text-align: right;\">\n",
       "      <th></th>\n",
       "      <th>Ping (ms)</th>\n",
       "      <th>Download (Mbit/s)</th>\n",
       "      <th>Upload (Mbit/s)</th>\n",
       "      <th>Date</th>\n",
       "      <th>Time</th>\n",
       "    </tr>\n",
       "  </thead>\n",
       "  <tbody>\n",
       "    <tr>\n",
       "      <th>0</th>\n",
       "      <td>26.992</td>\n",
       "      <td>91.80</td>\n",
       "      <td>14.31</td>\n",
       "      <td>2016-11-24</td>\n",
       "      <td>13:36:25</td>\n",
       "    </tr>\n",
       "    <tr>\n",
       "      <th>1</th>\n",
       "      <td>24.532</td>\n",
       "      <td>88.19</td>\n",
       "      <td>14.12</td>\n",
       "      <td>2016-11-24</td>\n",
       "      <td>13:36:55</td>\n",
       "    </tr>\n",
       "    <tr>\n",
       "      <th>2</th>\n",
       "      <td>20.225</td>\n",
       "      <td>59.86</td>\n",
       "      <td>14.11</td>\n",
       "      <td>2016-11-24</td>\n",
       "      <td>13:37:25</td>\n",
       "    </tr>\n",
       "    <tr>\n",
       "      <th>3</th>\n",
       "      <td>19.332</td>\n",
       "      <td>91.81</td>\n",
       "      <td>14.22</td>\n",
       "      <td>2016-11-24</td>\n",
       "      <td>13:37:57</td>\n",
       "    </tr>\n",
       "    <tr>\n",
       "      <th>4</th>\n",
       "      <td>22.494</td>\n",
       "      <td>92.05</td>\n",
       "      <td>14.08</td>\n",
       "      <td>2016-11-24</td>\n",
       "      <td>13:38:27</td>\n",
       "    </tr>\n",
       "  </tbody>\n",
       "</table>\n",
       "</div>"
      ],
      "text/plain": [
       "  Ping (ms) Download (Mbit/s)  Upload (Mbit/s)        Date      Time\n",
       "0    26.992             91.80            14.31  2016-11-24  13:36:25\n",
       "1    24.532             88.19            14.12  2016-11-24  13:36:55\n",
       "2    20.225             59.86            14.11  2016-11-24  13:37:25\n",
       "3    19.332             91.81            14.22  2016-11-24  13:37:57\n",
       "4    22.494             92.05            14.08  2016-11-24  13:38:27"
      ]
     },
     "execution_count": 61,
     "metadata": {},
     "output_type": "execute_result"
    }
   ],
   "source": [
    "# Code cell 30\n",
    "df_compact.drop(['Datetime'], axis=1, inplace=True)\n",
    "df_compact.head()"
   ]
  },
  {
   "cell_type": "markdown",
   "metadata": {},
   "source": [
    "Enter the code to print out the first 3 rows of the data frame to verify the changes."
   ]
  },
  {
   "cell_type": "code",
   "execution_count": 62,
   "metadata": {},
   "outputs": [
    {
     "data": {
      "text/html": [
       "<div>\n",
       "<style scoped>\n",
       "    .dataframe tbody tr th:only-of-type {\n",
       "        vertical-align: middle;\n",
       "    }\n",
       "\n",
       "    .dataframe tbody tr th {\n",
       "        vertical-align: top;\n",
       "    }\n",
       "\n",
       "    .dataframe thead th {\n",
       "        text-align: right;\n",
       "    }\n",
       "</style>\n",
       "<table border=\"1\" class=\"dataframe\">\n",
       "  <thead>\n",
       "    <tr style=\"text-align: right;\">\n",
       "      <th></th>\n",
       "      <th>Ping (ms)</th>\n",
       "      <th>Download (Mbit/s)</th>\n",
       "      <th>Upload (Mbit/s)</th>\n",
       "      <th>Date</th>\n",
       "      <th>Time</th>\n",
       "    </tr>\n",
       "  </thead>\n",
       "  <tbody>\n",
       "    <tr>\n",
       "      <th>0</th>\n",
       "      <td>26.992</td>\n",
       "      <td>91.80</td>\n",
       "      <td>14.31</td>\n",
       "      <td>2016-11-24</td>\n",
       "      <td>13:36:25</td>\n",
       "    </tr>\n",
       "    <tr>\n",
       "      <th>1</th>\n",
       "      <td>24.532</td>\n",
       "      <td>88.19</td>\n",
       "      <td>14.12</td>\n",
       "      <td>2016-11-24</td>\n",
       "      <td>13:36:55</td>\n",
       "    </tr>\n",
       "    <tr>\n",
       "      <th>2</th>\n",
       "      <td>20.225</td>\n",
       "      <td>59.86</td>\n",
       "      <td>14.11</td>\n",
       "      <td>2016-11-24</td>\n",
       "      <td>13:37:25</td>\n",
       "    </tr>\n",
       "  </tbody>\n",
       "</table>\n",
       "</div>"
      ],
      "text/plain": [
       "  Ping (ms) Download (Mbit/s)  Upload (Mbit/s)        Date      Time\n",
       "0    26.992             91.80            14.31  2016-11-24  13:36:25\n",
       "1    24.532             88.19            14.12  2016-11-24  13:36:55\n",
       "2    20.225             59.86            14.11  2016-11-24  13:37:25"
      ]
     },
     "execution_count": 62,
     "metadata": {},
     "output_type": "execute_result"
    }
   ],
   "source": [
    "# Code cell 31\n",
    "df_compact.head(3)"
   ]
  },
  {
   "cell_type": "markdown",
   "metadata": {},
   "source": [
    "d) Use the `type` function to print out the variable type of the values in the `Date` and `Time` columns."
   ]
  },
  {
   "cell_type": "code",
   "execution_count": 63,
   "metadata": {},
   "outputs": [
    {
     "name": "stdout",
     "output_type": "stream",
     "text": [
      "2016-11-24 <class 'datetime.date'>\n",
      "13:36:25 <class 'datetime.time'>\n"
     ]
    }
   ],
   "source": [
    "# Code cell 32\n",
    "print(df_compact['Date'][0], type(df_compact['Date'][0]) )\n",
    "print(df_compact['Time'][0], type(df_compact['Time'][0]) )"
   ]
  },
  {
   "cell_type": "markdown",
   "metadata": {},
   "source": [
    "#### Step 5: Save the new data frame.\n",
    "Save the pandas dataframe `df_compact` as a csv file called `rpi_data_compact`:"
   ]
  },
  {
   "cell_type": "code",
   "execution_count": 64,
   "metadata": {},
   "outputs": [],
   "source": [
    "# Code cell 33\n",
    "df_compact.to_csv('./Data/rpi_data_compact.csv')"
   ]
  },
  {
   "cell_type": "markdown",
   "metadata": {},
   "source": [
    "<font size='0.5'>&copy; 2017 Cisco and/or its affiliates. All rights reserved. This document is Cisco Public.<font>"
   ]
  }
 ],
 "metadata": {
  "anaconda-cloud": {},
  "kernelspec": {
   "display_name": "Python 3",
   "language": "python",
   "name": "python3"
  },
  "language_info": {
   "codemirror_mode": {
    "name": "ipython",
    "version": 3
   },
   "file_extension": ".py",
   "mimetype": "text/x-python",
   "name": "python",
   "nbconvert_exporter": "python",
   "pygments_lexer": "ipython3",
   "version": "3.8.5"
  }
 },
 "nbformat": 4,
 "nbformat_minor": 1
}
